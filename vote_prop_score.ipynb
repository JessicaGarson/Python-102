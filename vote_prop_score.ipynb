{
 "cells": [
  {
   "cell_type": "code",
   "execution_count": 2,
   "metadata": {},
   "outputs": [],
   "source": [
    "import pandas as pd"
   ]
  },
  {
   "cell_type": "code",
   "execution_count": 3,
   "metadata": {},
   "outputs": [],
   "source": [
    "vol_score = pd.read_csv('supportvolscores.csv')"
   ]
  },
  {
   "cell_type": "code",
   "execution_count": 4,
   "metadata": {},
   "outputs": [
    {
     "data": {
      "text/html": [
       "<div>\n",
       "<style scoped>\n",
       "    .dataframe tbody tr th:only-of-type {\n",
       "        vertical-align: middle;\n",
       "    }\n",
       "\n",
       "    .dataframe tbody tr th {\n",
       "        vertical-align: top;\n",
       "    }\n",
       "\n",
       "    .dataframe thead th {\n",
       "        text-align: right;\n",
       "    }\n",
       "</style>\n",
       "<table border=\"1\" class=\"dataframe\">\n",
       "  <thead>\n",
       "    <tr style=\"text-align: right;\">\n",
       "      <th></th>\n",
       "      <th>VANID</th>\n",
       "      <th>demsupport</th>\n",
       "      <th>volunteer</th>\n",
       "      <th>voteprop</th>\n",
       "    </tr>\n",
       "  </thead>\n",
       "  <tbody>\n",
       "    <tr>\n",
       "      <th>0</th>\n",
       "      <td>1134110</td>\n",
       "      <td>0.697032</td>\n",
       "      <td>0.881404</td>\n",
       "      <td>10.806746</td>\n",
       "    </tr>\n",
       "    <tr>\n",
       "      <th>1</th>\n",
       "      <td>2190731</td>\n",
       "      <td>0.697032</td>\n",
       "      <td>0.881404</td>\n",
       "      <td>66.673325</td>\n",
       "    </tr>\n",
       "    <tr>\n",
       "      <th>2</th>\n",
       "      <td>105279</td>\n",
       "      <td>1.007658</td>\n",
       "      <td>1.318598</td>\n",
       "      <td>97.060421</td>\n",
       "    </tr>\n",
       "    <tr>\n",
       "      <th>3</th>\n",
       "      <td>631634</td>\n",
       "      <td>1.007658</td>\n",
       "      <td>1.318598</td>\n",
       "      <td>66.675777</td>\n",
       "    </tr>\n",
       "    <tr>\n",
       "      <th>4</th>\n",
       "      <td>2772113</td>\n",
       "      <td>1.007658</td>\n",
       "      <td>1.318598</td>\n",
       "      <td>66.662156</td>\n",
       "    </tr>\n",
       "  </tbody>\n",
       "</table>\n",
       "</div>"
      ],
      "text/plain": [
       "     VANID  demsupport  volunteer   voteprop\n",
       "0  1134110    0.697032   0.881404  10.806746\n",
       "1  2190731    0.697032   0.881404  66.673325\n",
       "2   105279    1.007658   1.318598  97.060421\n",
       "3   631634    1.007658   1.318598  66.675777\n",
       "4  2772113    1.007658   1.318598  66.662156"
      ]
     },
     "execution_count": 4,
     "metadata": {},
     "output_type": "execute_result"
    }
   ],
   "source": [
    "vol_score.head()"
   ]
  },
  {
   "cell_type": "code",
   "execution_count": 5,
   "metadata": {},
   "outputs": [],
   "source": [
    "vote_prop_avg = vol_score[\"voteprop\"].mean()"
   ]
  },
  {
   "cell_type": "code",
   "execution_count": 8,
   "metadata": {},
   "outputs": [],
   "source": [
    "high_voteprop = vol_score.loc[vol_score['voteprop'] >= 80]"
   ]
  },
  {
   "cell_type": "code",
   "execution_count": 9,
   "metadata": {},
   "outputs": [
    {
     "data": {
      "text/html": [
       "<div>\n",
       "<style scoped>\n",
       "    .dataframe tbody tr th:only-of-type {\n",
       "        vertical-align: middle;\n",
       "    }\n",
       "\n",
       "    .dataframe tbody tr th {\n",
       "        vertical-align: top;\n",
       "    }\n",
       "\n",
       "    .dataframe thead th {\n",
       "        text-align: right;\n",
       "    }\n",
       "</style>\n",
       "<table border=\"1\" class=\"dataframe\">\n",
       "  <thead>\n",
       "    <tr style=\"text-align: right;\">\n",
       "      <th></th>\n",
       "      <th>VANID</th>\n",
       "      <th>demsupport</th>\n",
       "      <th>volunteer</th>\n",
       "      <th>voteprop</th>\n",
       "    </tr>\n",
       "  </thead>\n",
       "  <tbody>\n",
       "    <tr>\n",
       "      <th>2</th>\n",
       "      <td>105279</td>\n",
       "      <td>1.007658</td>\n",
       "      <td>1.318598</td>\n",
       "      <td>97.060421</td>\n",
       "    </tr>\n",
       "    <tr>\n",
       "      <th>9</th>\n",
       "      <td>1896752</td>\n",
       "      <td>1.261365</td>\n",
       "      <td>4.596412</td>\n",
       "      <td>97.059703</td>\n",
       "    </tr>\n",
       "    <tr>\n",
       "      <th>10</th>\n",
       "      <td>35481</td>\n",
       "      <td>1.261365</td>\n",
       "      <td>4.596412</td>\n",
       "      <td>97.060023</td>\n",
       "    </tr>\n",
       "    <tr>\n",
       "      <th>13</th>\n",
       "      <td>278184</td>\n",
       "      <td>1.261365</td>\n",
       "      <td>4.596412</td>\n",
       "      <td>97.059708</td>\n",
       "    </tr>\n",
       "    <tr>\n",
       "      <th>20</th>\n",
       "      <td>614989</td>\n",
       "      <td>1.261365</td>\n",
       "      <td>4.596412</td>\n",
       "      <td>97.061710</td>\n",
       "    </tr>\n",
       "  </tbody>\n",
       "</table>\n",
       "</div>"
      ],
      "text/plain": [
       "      VANID  demsupport  volunteer   voteprop\n",
       "2    105279    1.007658   1.318598  97.060421\n",
       "9   1896752    1.261365   4.596412  97.059703\n",
       "10    35481    1.261365   4.596412  97.060023\n",
       "13   278184    1.261365   4.596412  97.059708\n",
       "20   614989    1.261365   4.596412  97.061710"
      ]
     },
     "execution_count": 9,
     "metadata": {},
     "output_type": "execute_result"
    }
   ],
   "source": [
    "high_voteprop.head()"
   ]
  },
  {
   "cell_type": "code",
   "execution_count": 11,
   "metadata": {},
   "outputs": [],
   "source": [
    "high_voteprop.to_csv('high_voteprop.csv')"
   ]
  }
 ],
 "metadata": {
  "kernelspec": {
   "display_name": "Python 3",
   "language": "python",
   "name": "python3"
  },
  "language_info": {
   "codemirror_mode": {
    "name": "ipython",
    "version": 3
   },
   "file_extension": ".py",
   "mimetype": "text/x-python",
   "name": "python",
   "nbconvert_exporter": "python",
   "pygments_lexer": "ipython3",
   "version": "3.7.3"
  }
 },
 "nbformat": 4,
 "nbformat_minor": 4
}
